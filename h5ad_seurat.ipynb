{
 "cells": [
  {
   "cell_type": "code",
   "execution_count": 1,
   "metadata": {},
   "outputs": [],
   "source": [
    "import scanpy as sc\n",
    "from scipy import io"
   ]
  },
  {
   "cell_type": "code",
   "execution_count": 2,
   "metadata": {},
   "outputs": [
    {
     "data": {
      "text/plain": [
       "AnnData object with n_obs × n_vars = 100940 × 45107\n",
       "    obs: 'BlacklistRatio', 'DoubletEnrichment', 'DoubletScore', 'nDiFrags', 'nFrags', 'nMonoFrags', 'nMultiFrags', 'NucleosomeRatio', 'PassQC', 'PromoterRatio', 'ReadsInBlacklist', 'ReadsInPromoter', 'ReadsInTSS', 'Sample', 'TSSEnrichment', 'chemistry', 'dissection', 'stage', 'donor', 'gender', 'Clusters', 'predictedCell_Un', 'predictedGroup_Un', 'predictedScore_Un', 'cell_type', 'ReadsInPeaks', 'FRIP', 'IterativeLSI#UMAP_Dimension_1', 'IterativeLSI#UMAP_Dimension_2'\n",
       "    uns: 'cell_type_colors', 'predictedGroup_Un_colors'\n",
       "    obsm: 'X_umap'"
      ]
     },
     "execution_count": 2,
     "metadata": {},
     "output_type": "execute_result"
    }
   ],
   "source": [
    "#adata = sc.read_h5ad(\"/Users/anemos/Dropbox/RawlinsSc/220511Assembled10DomainsFiltered.h5ad\")\n",
    "adata = sc.read_h5ad(\"/Users/anemos/Dropbox/RawlinsSc/211201Fetal_lung_ATAC.h5ad\")\n",
    "adata"
   ]
  },
  {
   "cell_type": "code",
   "execution_count": 3,
   "metadata": {},
   "outputs": [],
   "source": [
    "#adata = adata.raw.to_adata()"
   ]
  },
  {
   "cell_type": "code",
   "execution_count": 4,
   "metadata": {},
   "outputs": [],
   "source": [
    "# Convert to raw data\n",
    "# this is the barcode, aka ATCG codes\n",
    "with open ('./barcodes.tsv','w') as f:\n",
    "    for item in adata.obs_names:\n",
    "        f.write(item + '\\n')"
   ]
  },
  {
   "cell_type": "code",
   "execution_count": 5,
   "metadata": {},
   "outputs": [
    {
     "data": {
      "text/plain": [
       "Index(['OR4F5', 'LOC729737', 'LOC101928626', 'FAM87B', 'LINC01128',\n",
       "       'LINC00115', 'FAM41C', 'LINC02593', 'SAMD11', 'NOC2L',\n",
       "       ...\n",
       "       'FUNDC2_RNA_int', 'CMC4_RNA_int', 'MTCP1_RNA_int', 'BRCC3_RNA_int',\n",
       "       'VBP1_RNA_int', 'RAB39B_RNA_int', 'CLIC2_RNA_int', 'H2AFB1_RNA_int',\n",
       "       'F8A2_RNA_int', 'TMLHE_RNA_int'],\n",
       "      dtype='object', length=45107)"
      ]
     },
     "execution_count": 5,
     "metadata": {},
     "output_type": "execute_result"
    }
   ],
   "source": [
    "adata.var_names"
   ]
  },
  {
   "cell_type": "code",
   "execution_count": 6,
   "metadata": {},
   "outputs": [],
   "source": [
    "# Features, gene\n",
    "with open ('./features.tsv','w') as f:\n",
    "    for item in ['\\t'.join([x,x, 'Gene Expression']) for x in adata.var_names]:\n",
    "        f.write(item + '\\n')"
   ]
  },
  {
   "cell_type": "code",
   "execution_count": 7,
   "metadata": {},
   "outputs": [],
   "source": [
    "io.mmwrite('./matrix', adata.X.T)"
   ]
  },
  {
   "cell_type": "code",
   "execution_count": 11,
   "metadata": {},
   "outputs": [
    {
     "name": "stdout",
     "output_type": "stream",
     "text": [
      "barcodes.tsv features.tsv matrix.mtx   metadata.csv\n"
     ]
    }
   ],
   "source": [
    "#!ls 220511_filtered/\n",
    "# The matrix file is too big, have to separate into part 1 and 2. \n",
    "# See R code explanation about this.\n",
    "!ls part1/"
   ]
  },
  {
   "cell_type": "code",
   "execution_count": 14,
   "metadata": {},
   "outputs": [
    {
     "name": "stdout",
     "output_type": "stream",
     "text": [
      "gzip: part1/barcodes.tsv.gz already has .gz suffix -- unchanged\n",
      "gzip: part1/features.tsv.gz already has .gz suffix -- unchanged\n"
     ]
    }
   ],
   "source": [
    "#!gzip 220511_filtered/*\n",
    "!gzip part1/*"
   ]
  },
  {
   "cell_type": "code",
   "execution_count": 15,
   "metadata": {},
   "outputs": [
    {
     "name": "stdout",
     "output_type": "stream",
     "text": [
      "barcodes.tsv features.tsv matrix.mtx   metadata.csv\n"
     ]
    }
   ],
   "source": [
    "!ls part2/\n",
    "!gzip part2/*"
   ]
  },
  {
   "cell_type": "code",
   "execution_count": null,
   "metadata": {},
   "outputs": [],
   "source": [
    "!ls .\n",
    "!gzip ./matrix.mtx"
   ]
  },
  {
   "cell_type": "code",
   "execution_count": 10,
   "metadata": {},
   "outputs": [],
   "source": [
    "# adata.obs.to_csv('./ATAC/metadata.csv')"
   ]
  }
 ],
 "metadata": {
  "kernelspec": {
   "display_name": "Python 3",
   "language": "python",
   "name": "python3"
  },
  "language_info": {
   "codemirror_mode": {
    "name": "ipython",
    "version": 3
   },
   "file_extension": ".py",
   "mimetype": "text/x-python",
   "name": "python",
   "nbconvert_exporter": "python",
   "pygments_lexer": "ipython3",
   "version": "3.10.10"
  }
 },
 "nbformat": 4,
 "nbformat_minor": 2
}
